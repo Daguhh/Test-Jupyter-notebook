{
 "cells": [
  {
   "cell_type": "code",
   "execution_count": null,
   "metadata": {},
   "outputs": [],
   "source": [
    "# -*- coding: utf-8 -*-\n",
    "\n",
    "import numpy as np\n",
    "\n",
    "fichier = open(\"pixel_art_8x8\", \"r\")\n",
    "new_fichier = open(\"pixel_art_8x8_for_py\", \"a\")\n",
    "for ligne in (fichier) :\n",
    "    new_line=str()\n",
    "    for j, lettre in enumerate(ligne) :\n",
    "        if lettre==\"{\" : new_line += \"[\"\n",
    "        elif lettre==\"}\" : new_line += \"]\"\n",
    "        elif lettre==\"/\" : new_line += \"#\"\n",
    "        else : new_line += lettre\n",
    "    new_fichier.write(new_line)\n",
    "\n",
    "fichier.close()\n",
    "new_fichier.close()\n",
    "    \n",
    "\n",
    "\n",
    "\n",
    "    \n",
    "    "
   ]
  }
 ],
 "metadata": {
  "kernelspec": {
   "display_name": "Python 3",
   "language": "python",
   "name": "python3"
  },
  "language_info": {
   "codemirror_mode": {
    "name": "ipython",
    "version": 3
   },
   "file_extension": ".py",
   "mimetype": "text/x-python",
   "name": "python",
   "nbconvert_exporter": "python",
   "pygments_lexer": "ipython3",
   "version": "3.8.2"
  }
 },
 "nbformat": 4,
 "nbformat_minor": 4
}
